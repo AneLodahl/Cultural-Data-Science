{
 "cells": [
  {
   "cell_type": "markdown",
   "id": "103f4b89-0bd8-4ff2-b518-9bbfc5002878",
   "metadata": {},
   "source": [
    " # Header 1\n",
    "\n"
   ]
  },
  {
   "cell_type": "markdown",
   "id": "16f4bede-95e1-4691-9350-a89cc96758f5",
   "metadata": {
    "collapsed": true,
    "jupyter": {
     "outputs_hidden": true
    }
   },
   "source": [
    "### list\n",
    "\n",
    "- item 1\n",
    "- halløj\n",
    "- hey\n",
    "\n",
    "Click the blue bar to the left of the cell to change between code and markdown\n",
    "\n",
    "y for code\n",
    "\n",
    "m for markdown\n",
    "\n",
    "\n",
    " use \"_  _\" for _italics_"
   ]
  },
  {
   "cell_type": "markdown",
   "id": "d3f17ac7-1284-4a1a-9cc3-0e37ea473c95",
   "metadata": {},
   "source": [
    "Make sure that each cell is a markdown if code is not working"
   ]
  },
  {
   "cell_type": "markdown",
   "id": "6c52885d-50c6-44fd-b8cd-07f9da01f4a5",
   "metadata": {},
   "source": [
    "By clicking \"Python 3\" in the top right corner you can change between different langauges"
   ]
  },
  {
   "cell_type": "markdown",
   "id": "5f626296-b0f7-4576-a696-71e57990b596",
   "metadata": {},
   "source": [
    "Combine cell with cell above or under by right clicking and choosing \"merge cell above/below\"\n",
    "Split cell by clicking where you want to split, right click and choose \"split cell\""
   ]
  },
  {
   "cell_type": "code",
   "execution_count": 9,
   "id": "b1fbf91e-2b80-414b-bc52-eb824ee5b6fe",
   "metadata": {},
   "outputs": [],
   "source": [
    "#in code cell\n",
    "\n",
    "a = 'variables'\n",
    "\n",
    "b = 2\n",
    "\n",
    "c = 3.456\n",
    "\n",
    "d = 'hej'"
   ]
  },
  {
   "cell_type": "code",
   "execution_count": 8,
   "id": "663674cf-4112-489a-a680-8c2691ea3691",
   "metadata": {},
   "outputs": [
    {
     "data": {
      "text/plain": [
       "str"
      ]
     },
     "execution_count": 8,
     "metadata": {},
     "output_type": "execute_result"
    }
   ],
   "source": [
    "type(a) #tells us what type it is\n",
    "\n",
    "# str = string\n",
    "# you can\n"
   ]
  },
  {
   "cell_type": "code",
   "execution_count": 10,
   "id": "4a9e8dd6-9f0e-4253-9b92-ef9071d97cb5",
   "metadata": {},
   "outputs": [
    {
     "data": {
      "text/plain": [
       "'variableshej'"
      ]
     },
     "execution_count": 10,
     "metadata": {},
     "output_type": "execute_result"
    }
   ],
   "source": [
    "#Strings can be added together with other strings but not numbers\n",
    "a + d"
   ]
  },
  {
   "cell_type": "code",
   "execution_count": null,
   "id": "af4e6c0e-3cd4-44c6-b431-b3bc0439a638",
   "metadata": {},
   "outputs": [],
   "source": [
    "Halløh hulla baluuu just writing something "
   ]
  },
  {
   "cell_type": "code",
   "execution_count": null,
   "id": "b67c70d8-17b3-450f-9a40-858d0990189f",
   "metadata": {},
   "outputs": [],
   "source": []
  }
 ],
 "metadata": {
  "kernelspec": {
   "display_name": "Python 3 ",
   "language": "python",
   "name": "python3"
  },
  "language_info": {
   "codemirror_mode": {
    "name": "ipython",
    "version": 3
   },
   "file_extension": ".py",
   "mimetype": "text/x-python",
   "name": "python",
   "nbconvert_exporter": "python",
   "pygments_lexer": "ipython3",
   "version": "3.10.14"
  }
 },
 "nbformat": 4,
 "nbformat_minor": 5
}
