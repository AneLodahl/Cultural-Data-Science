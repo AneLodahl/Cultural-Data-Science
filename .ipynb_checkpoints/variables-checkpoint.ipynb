{
 "cells": [
  {
   "cell_type": "markdown",
   "metadata": {},
   "source": [
    "# Variables and variable types\n",
    "\n",
    "## \"Regular\" variables\n",
    "\n",
    "1. strings\n",
    "1. integers\n",
    "1. floats\n",
    "\n",
    "## \"Collection\" variables\n",
    "\n",
    "1. tuples\n",
    "1. lists\n",
    "1. sets\n",
    "1. dictionaries\n",
    "\n",
    "From https://www.w3schools.com:\n",
    "\n",
    "- **Strings** are for storing text\n",
    "- **Integers** are for storing whole numbers, positive or negative (such as 123 or -456), without decimals.\n",
    "- **Floats** are for storing positive and negative numbers with a decimal point, like 35.3, or -2.34\n",
    "- **Lists** are collections which are ordered and changeable. Allows duplicate members. \n",
    "- **Tuples** are collections which are ordered and unchangeable. Allows duplicate members.\n",
    "- **Sets** are collections which are unordered, \"unchangeable\", and unindexed. No duplicate members.\n",
    "- **Dictionaries** are collections which are ordered and changeable. No duplicate members."
   ]
  },
  {
   "cell_type": "markdown",
   "metadata": {},
   "source": [
    "## Strings"
   ]
  },
  {
   "cell_type": "code",
   "execution_count": 2,
   "metadata": {},
   "outputs": [],
   "source": [
    "hejsa = \"hello world\"\n",
    "number = \"5\""
   ]
  },
  {
   "cell_type": "code",
   "execution_count": 6,
   "metadata": {},
   "outputs": [
    {
     "data": {
      "text/plain": [
       "<function str.startswith>"
      ]
     },
     "execution_count": 6,
     "metadata": {},
     "output_type": "execute_result"
    }
   ],
   "source": [
    "type(hejsa)\n",
    "\n",
    "dir(hejsa) #tells me all the different things that are true to hejsa because it is a string\n",
    "\n",
    "#hejsa.isopp\n",
    "\n",
    "hejsa\n",
    "\n",
    "hejsa.startswith\n",
    "\n",
    "hejsa.split # if the variable consists of two words they will now be split into the first and then the second word"
   ]
  },
  {
   "cell_type": "markdown",
   "metadata": {},
   "source": [
    "## Integers"
   ]
  },
  {
   "cell_type": "code",
   "execution_count": 1,
   "metadata": {},
   "outputs": [],
   "source": [
    "tal = 1\n",
    "nyttal = -398"
   ]
  },
  {
   "cell_type": "markdown",
   "metadata": {},
   "source": [
    "## Floats"
   ]
  },
  {
   "cell_type": "code",
   "execution_count": null,
   "metadata": {},
   "outputs": [],
   "source": [
    "floats = 33.3\n",
    "negfloat = -98.4"
   ]
  },
  {
   "cell_type": "markdown",
   "metadata": {},
   "source": [
    "## Lists"
   ]
  },
  {
   "cell_type": "code",
   "execution_count": 38,
   "metadata": {},
   "outputs": [
    {
     "data": {
      "text/plain": [
       "[['oranges', 'bananas', 'pears', 5], ['item1', 'item2', 'item3', 4]]"
      ]
     },
     "execution_count": 38,
     "metadata": {},
     "output_type": "execute_result"
    }
   ],
   "source": [
    "fruits = ['oranges', 'bananas', 'pears', 5]\n",
    "\n",
    "fruits\n",
    "\n",
    "lists = ['item1', 'item2', 'item3', 4]\n",
    "lists\n",
    "\n",
    "combined = [fruits, lists]\n",
    "combined"
   ]
  },
  {
   "cell_type": "code",
   "execution_count": 39,
   "metadata": {},
   "outputs": [
    {
     "data": {
      "text/plain": [
       "'bananas'"
      ]
     },
     "execution_count": 39,
     "metadata": {},
     "output_type": "execute_result"
    }
   ],
   "source": [
    "fruits[1] #indexing, \n",
    "\n",
    "combined[0][1] #get the first list and within that item get the second item"
   ]
  },
  {
   "cell_type": "markdown",
   "metadata": {},
   "source": [
    "## Tuples"
   ]
  },
  {
   "cell_type": "code",
   "execution_count": 44,
   "metadata": {},
   "outputs": [
    {
     "data": {
      "text/plain": [
       "('apple', 'banana', 'cherry')"
      ]
     },
     "execution_count": 44,
     "metadata": {},
     "output_type": "execute_result"
    }
   ],
   "source": [
    "fruittuple = ('apple', 'banana', 'cherry')\n",
    "#not possible: fruittuple [1] = 'kiwi' #as you cannot change a tupple"
   ]
  },
  {
   "cell_type": "markdown",
   "metadata": {},
   "source": [
    "## Sets"
   ]
  },
  {
   "cell_type": "code",
   "execution_count": 59,
   "metadata": {},
   "outputs": [
    {
     "data": {
      "text/plain": [
       "['oranges',\n",
       " 'bananas',\n",
       " 'pears',\n",
       " 5,\n",
       " 'cherries',\n",
       " 'grapes',\n",
       " 'grapes',\n",
       " 'grapes',\n",
       " 'grapes']"
      ]
     },
     "execution_count": 59,
     "metadata": {},
     "output_type": "execute_result"
    }
   ],
   "source": [
    "fruits"
   ]
  },
  {
   "cell_type": "code",
   "execution_count": 58,
   "metadata": {},
   "outputs": [],
   "source": [
    "fruits.append('grapes')"
   ]
  },
  {
   "cell_type": "raw",
   "metadata": {},
   "source": [
    "fruits"
   ]
  },
  {
   "cell_type": "code",
   "execution_count": null,
   "metadata": {},
   "outputs": [],
   "source": [
    "set(fruits) #if i eg have several grapes, then it only shows grape once, it shows the \"sets\"/unique items"
   ]
  },
  {
   "cell_type": "markdown",
   "metadata": {},
   "source": [
    "## Dictionaries"
   ]
  },
  {
   "cell_type": "code",
   "execution_count": 50,
   "metadata": {},
   "outputs": [
    {
     "data": {
      "text/plain": [
       "'Ane'"
      ]
     },
     "execution_count": 50,
     "metadata": {},
     "output_type": "execute_result"
    }
   ],
   "source": [
    "dict = {'name': 'Ane', \n",
    "        'Age': '24', \n",
    "        'lol': 'haha'}\n",
    "\n",
    "dict['name']"
   ]
  },
  {
   "cell_type": "markdown",
   "metadata": {},
   "source": [
    "## Loops"
   ]
  },
  {
   "cell_type": "code",
   "execution_count": 56,
   "metadata": {},
   "outputs": [
    {
     "name": "stdout",
     "output_type": "stream",
     "text": [
      "0\n",
      "1\n",
      "2\n",
      "3\n",
      "4\n"
     ]
    }
   ],
   "source": [
    "for x in range(5):\n",
    "    print(x)"
   ]
  },
  {
   "cell_type": "code",
   "execution_count": 57,
   "metadata": {},
   "outputs": [
    {
     "name": "stdout",
     "output_type": "stream",
     "text": [
      "oranges\n",
      "bananas\n",
      "pears\n",
      "5\n",
      "cherries\n",
      "grapes\n",
      "grapes\n",
      "grapes\n"
     ]
    }
   ],
   "source": [
    "for fruit in fruits: #variables can be anything, x, a, fruit etc\n",
    "    print(fruit)"
   ]
  },
  {
   "cell_type": "code",
   "execution_count": 60,
   "metadata": {},
   "outputs": [],
   "source": [
    "fruits[3]= 'cherry' #changing the number to be a fruit as we can't run the code below with an integer"
   ]
  },
  {
   "cell_type": "code",
   "execution_count": 66,
   "metadata": {},
   "outputs": [
    {
     "name": "stdout",
     "output_type": "stream",
     "text": [
      "I love oranges\n",
      "I love bananas\n",
      "I love pears\n",
      "I love cherry\n",
      "I love cherries\n",
      "I love grapes\n",
      "I love grapes\n",
      "I love grapes\n",
      "I love grapes\n"
     ]
    }
   ],
   "source": [
    "for fruit in fruits:\n",
    "    print('I love ' + fruit)"
   ]
  },
  {
   "cell_type": "code",
   "execution_count": 67,
   "metadata": {},
   "outputs": [
    {
     "data": {
      "text/plain": [
       "['I love oranges',\n",
       " 'I love bananas',\n",
       " 'I love pears',\n",
       " 'I love cherry',\n",
       " 'I love cherries',\n",
       " 'I love grapes',\n",
       " 'I love grapes',\n",
       " 'I love grapes',\n",
       " 'I love grapes']"
      ]
     },
     "execution_count": 67,
     "metadata": {},
     "output_type": "execute_result"
    }
   ],
   "source": [
    "f = ['I love ' + x for x in fruits]\n",
    "f"
   ]
  },
  {
   "cell_type": "markdown",
   "metadata": {},
   "source": [
    "## Conditionals"
   ]
  },
  {
   "cell_type": "code",
   "execution_count": 69,
   "metadata": {},
   "outputs": [
    {
     "name": "stdout",
     "output_type": "stream",
     "text": [
      "I love pears\n"
     ]
    }
   ],
   "source": [
    "for fruit in fruits:\n",
    "    if fruit.startswith('p'):\n",
    "        print('I love ' + fruit)"
   ]
  },
  {
   "cell_type": "code",
   "execution_count": 70,
   "metadata": {},
   "outputs": [
    {
     "name": "stdout",
     "output_type": "stream",
     "text": [
      "I love pears\n",
      "I love grapes\n",
      "I love grapes\n",
      "I love grapes\n",
      "I love grapes\n"
     ]
    }
   ],
   "source": [
    "for fruit in fruits:\n",
    "    if 'p' in fruit:\n",
    "        print('I love ' + fruit)"
   ]
  },
  {
   "cell_type": "code",
   "execution_count": 74,
   "metadata": {},
   "outputs": [
    {
     "ename": "IndentationError",
     "evalue": "unexpected indent (20473711.py, line 6)",
     "output_type": "error",
     "traceback": [
      "\u001b[0;36m  Cell \u001b[0;32mIn[74], line 6\u001b[0;36m\u001b[0m\n\u001b[0;31m    myFavFruits.append(x)\u001b[0m\n\u001b[0m    ^\u001b[0m\n\u001b[0;31mIndentationError\u001b[0m\u001b[0;31m:\u001b[0m unexpected indent\n"
     ]
    }
   ],
   "source": [
    "for fruit in fruits:\n",
    "    if 'p' in fruit: #only if fruit starts with p it check if there's also a g\n",
    "            if 'g' in fruit:\n",
    "                print('I love ' + fruit)\n",
    "    "
   ]
  },
  {
   "cell_type": "code",
   "execution_count": 77,
   "metadata": {},
   "outputs": [],
   "source": [
    "MyFavFruits = []\n",
    "for fruit in fruits:\n",
    "    if 'p' in fruit: #only if fruit starts with p it check if there's also a g\n",
    "            if 'g' in fruit:\n",
    "                 MyFavFruits.append(x)"
   ]
  }
 ],
 "metadata": {
  "kernelspec": {
   "display_name": "Python 3 ",
   "language": "python",
   "name": "python3"
  },
  "language_info": {
   "codemirror_mode": {
    "name": "ipython",
    "version": 3
   },
   "file_extension": ".py",
   "mimetype": "text/x-python",
   "name": "python",
   "nbconvert_exporter": "python",
   "pygments_lexer": "ipython3",
   "version": "3.10.14"
  }
 },
 "nbformat": 4,
 "nbformat_minor": 4
}
